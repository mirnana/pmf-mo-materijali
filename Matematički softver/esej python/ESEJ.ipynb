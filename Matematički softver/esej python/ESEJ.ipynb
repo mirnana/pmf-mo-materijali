{
 "cells": [
  {
   "cell_type": "markdown",
   "id": "f10d8ade",
   "metadata": {},
   "source": [
    "zelim:\n",
    "- pie chartove kao u zadaci\n",
    "- za svaku kategoriju srece usporedbu demografije \n",
    "- usporedba pojedine kategorije srece po dobnim skupinama - stupcasti usporedni graf\n",
    "- \"konzistentnost\" po spolovima: kako se kategorije srece mijenjaju od kratkorocnih do dugorocnih happy momenata, podijeljeno po spolovima\n",
    "- mozda neki pearsonov koeficijent korelacije? IMA PY FJA ZA TO : numpy.corrcoef();\n"
   ]
  },
  {
   "cell_type": "markdown",
   "id": "3e0049f3",
   "metadata": {},
   "source": [
    "# *Happy moments*\n",
    "\n",
    "Tim znanstvenika *crowdfundingom* je skupio oko 100,000 podataka o tome što je ispitanike učinilo sretnima u danom trenutku. Pitanja su se odnosila ili na kratkoročnu sreću - pri čemu su bili upitani što ih je usrećilo u posljednja 24 sata, ili na dugoročniju - pitalo ih se što ih je usrećilo unazad tri mjeseca.\n",
    "\n",
    "Pri ispunjavanju upitnika, svaki je ispitanik dao svoje opće demografske podatke (dob, porijeklo, jesu li vjenčani, jesu li roditelji) i kratku rečenicu koja odgovara na pitanje o sretnim trenutcima u proteklom danu, odnosno protekla tri mjeseca. Zatim su ispitivači, kao što je opisano u [njihovom znanstvenom radu](https://arxiv.org/pdf/1801.07746.pdf), *ekstrahirali* što se čini kao neka općenita *kategorija* uzroka sreće."
   ]
  },
  {
   "cell_type": "markdown",
   "id": "1d0b207c",
   "metadata": {},
   "source": [
    "## Uvoz podataka\n",
    "\n",
    "Za početak, učitajmo rezultate upitnika kako bismo s njima mogli raditi. "
   ]
  },
  {
   "cell_type": "code",
   "execution_count": 1,
   "id": "37241c9c",
   "metadata": {},
   "outputs": [],
   "source": [
    "import pandas as pd"
   ]
  },
  {
   "cell_type": "markdown",
   "id": "aa002adf",
   "metadata": {},
   "source": [
    "Jedna od tablica sadrži podatke o sretnim trenutcima, te procijenjene kategorije uzroka sreće:"
   ]
  },
  {
   "cell_type": "code",
   "execution_count": 2,
   "id": "d7738712",
   "metadata": {},
   "outputs": [
    {
     "data": {
      "text/html": [
       "<div>\n",
       "<style scoped>\n",
       "    .dataframe tbody tr th:only-of-type {\n",
       "        vertical-align: middle;\n",
       "    }\n",
       "\n",
       "    .dataframe tbody tr th {\n",
       "        vertical-align: top;\n",
       "    }\n",
       "\n",
       "    .dataframe thead th {\n",
       "        text-align: right;\n",
       "    }\n",
       "</style>\n",
       "<table border=\"1\" class=\"dataframe\">\n",
       "  <thead>\n",
       "    <tr style=\"text-align: right;\">\n",
       "      <th></th>\n",
       "      <th>hmid</th>\n",
       "      <th>wid</th>\n",
       "      <th>reflection_period</th>\n",
       "      <th>original_hm</th>\n",
       "      <th>cleaned_hm</th>\n",
       "      <th>modified</th>\n",
       "      <th>num_sentence</th>\n",
       "      <th>ground_truth_category</th>\n",
       "      <th>predicted_category</th>\n",
       "    </tr>\n",
       "  </thead>\n",
       "  <tbody>\n",
       "    <tr>\n",
       "      <th>0</th>\n",
       "      <td>27673</td>\n",
       "      <td>2053</td>\n",
       "      <td>24h</td>\n",
       "      <td>I went on a successful date with someone I fel...</td>\n",
       "      <td>I went on a successful date with someone I fel...</td>\n",
       "      <td>True</td>\n",
       "      <td>1</td>\n",
       "      <td>NaN</td>\n",
       "      <td>affection</td>\n",
       "    </tr>\n",
       "    <tr>\n",
       "      <th>1</th>\n",
       "      <td>27674</td>\n",
       "      <td>2</td>\n",
       "      <td>24h</td>\n",
       "      <td>I was happy when my son got 90% marks in his e...</td>\n",
       "      <td>I was happy when my son got 90% marks in his e...</td>\n",
       "      <td>True</td>\n",
       "      <td>1</td>\n",
       "      <td>NaN</td>\n",
       "      <td>affection</td>\n",
       "    </tr>\n",
       "    <tr>\n",
       "      <th>2</th>\n",
       "      <td>27675</td>\n",
       "      <td>1936</td>\n",
       "      <td>24h</td>\n",
       "      <td>I went to the gym this morning and did yoga.</td>\n",
       "      <td>I went to the gym this morning and did yoga.</td>\n",
       "      <td>True</td>\n",
       "      <td>1</td>\n",
       "      <td>NaN</td>\n",
       "      <td>exercise</td>\n",
       "    </tr>\n",
       "    <tr>\n",
       "      <th>3</th>\n",
       "      <td>27676</td>\n",
       "      <td>206</td>\n",
       "      <td>24h</td>\n",
       "      <td>We had a serious talk with some friends of our...</td>\n",
       "      <td>We had a serious talk with some friends of our...</td>\n",
       "      <td>True</td>\n",
       "      <td>2</td>\n",
       "      <td>bonding</td>\n",
       "      <td>bonding</td>\n",
       "    </tr>\n",
       "    <tr>\n",
       "      <th>4</th>\n",
       "      <td>27677</td>\n",
       "      <td>6227</td>\n",
       "      <td>24h</td>\n",
       "      <td>I went with grandchildren to butterfly display...</td>\n",
       "      <td>I went with grandchildren to butterfly display...</td>\n",
       "      <td>True</td>\n",
       "      <td>1</td>\n",
       "      <td>NaN</td>\n",
       "      <td>affection</td>\n",
       "    </tr>\n",
       "    <tr>\n",
       "      <th>...</th>\n",
       "      <td>...</td>\n",
       "      <td>...</td>\n",
       "      <td>...</td>\n",
       "      <td>...</td>\n",
       "      <td>...</td>\n",
       "      <td>...</td>\n",
       "      <td>...</td>\n",
       "      <td>...</td>\n",
       "      <td>...</td>\n",
       "    </tr>\n",
       "    <tr>\n",
       "      <th>100530</th>\n",
       "      <td>128762</td>\n",
       "      <td>112</td>\n",
       "      <td>24h</td>\n",
       "      <td>My husband announced he is getting a decent bo...</td>\n",
       "      <td>My husband announced he is getting a decent bo...</td>\n",
       "      <td>True</td>\n",
       "      <td>1</td>\n",
       "      <td>NaN</td>\n",
       "      <td>affection</td>\n",
       "    </tr>\n",
       "    <tr>\n",
       "      <th>100531</th>\n",
       "      <td>128763</td>\n",
       "      <td>714</td>\n",
       "      <td>24h</td>\n",
       "      <td>Had a can of Pepsi to drink.</td>\n",
       "      <td>Had a can of Pepsi to drink.</td>\n",
       "      <td>True</td>\n",
       "      <td>1</td>\n",
       "      <td>NaN</td>\n",
       "      <td>enjoy_the_moment</td>\n",
       "    </tr>\n",
       "    <tr>\n",
       "      <th>100532</th>\n",
       "      <td>128764</td>\n",
       "      <td>3934</td>\n",
       "      <td>24h</td>\n",
       "      <td>Cuddling with my girlfriend last night.</td>\n",
       "      <td>Cuddling with my girlfriend last night.</td>\n",
       "      <td>True</td>\n",
       "      <td>1</td>\n",
       "      <td>affection</td>\n",
       "      <td>affection</td>\n",
       "    </tr>\n",
       "    <tr>\n",
       "      <th>100533</th>\n",
       "      <td>128765</td>\n",
       "      <td>1629</td>\n",
       "      <td>24h</td>\n",
       "      <td>I had a great meeting yesterday at work with m...</td>\n",
       "      <td>I had a great meeting yesterday at work with m...</td>\n",
       "      <td>True</td>\n",
       "      <td>1</td>\n",
       "      <td>NaN</td>\n",
       "      <td>bonding</td>\n",
       "    </tr>\n",
       "    <tr>\n",
       "      <th>100534</th>\n",
       "      <td>128766</td>\n",
       "      <td>141</td>\n",
       "      <td>24h</td>\n",
       "      <td>I had a great workout last night.</td>\n",
       "      <td>I had a great workout last night.</td>\n",
       "      <td>True</td>\n",
       "      <td>1</td>\n",
       "      <td>NaN</td>\n",
       "      <td>exercise</td>\n",
       "    </tr>\n",
       "  </tbody>\n",
       "</table>\n",
       "<p>100535 rows × 9 columns</p>\n",
       "</div>"
      ],
      "text/plain": [
       "          hmid   wid reflection_period  \\\n",
       "0        27673  2053               24h   \n",
       "1        27674     2               24h   \n",
       "2        27675  1936               24h   \n",
       "3        27676   206               24h   \n",
       "4        27677  6227               24h   \n",
       "...        ...   ...               ...   \n",
       "100530  128762   112               24h   \n",
       "100531  128763   714               24h   \n",
       "100532  128764  3934               24h   \n",
       "100533  128765  1629               24h   \n",
       "100534  128766   141               24h   \n",
       "\n",
       "                                              original_hm  \\\n",
       "0       I went on a successful date with someone I fel...   \n",
       "1       I was happy when my son got 90% marks in his e...   \n",
       "2            I went to the gym this morning and did yoga.   \n",
       "3       We had a serious talk with some friends of our...   \n",
       "4       I went with grandchildren to butterfly display...   \n",
       "...                                                   ...   \n",
       "100530  My husband announced he is getting a decent bo...   \n",
       "100531                       Had a can of Pepsi to drink.   \n",
       "100532            Cuddling with my girlfriend last night.   \n",
       "100533  I had a great meeting yesterday at work with m...   \n",
       "100534                  I had a great workout last night.   \n",
       "\n",
       "                                               cleaned_hm  modified  \\\n",
       "0       I went on a successful date with someone I fel...      True   \n",
       "1       I was happy when my son got 90% marks in his e...      True   \n",
       "2            I went to the gym this morning and did yoga.      True   \n",
       "3       We had a serious talk with some friends of our...      True   \n",
       "4       I went with grandchildren to butterfly display...      True   \n",
       "...                                                   ...       ...   \n",
       "100530  My husband announced he is getting a decent bo...      True   \n",
       "100531                       Had a can of Pepsi to drink.      True   \n",
       "100532            Cuddling with my girlfriend last night.      True   \n",
       "100533  I had a great meeting yesterday at work with m...      True   \n",
       "100534                  I had a great workout last night.      True   \n",
       "\n",
       "        num_sentence ground_truth_category predicted_category  \n",
       "0                  1                   NaN          affection  \n",
       "1                  1                   NaN          affection  \n",
       "2                  1                   NaN           exercise  \n",
       "3                  2               bonding            bonding  \n",
       "4                  1                   NaN          affection  \n",
       "...              ...                   ...                ...  \n",
       "100530             1                   NaN          affection  \n",
       "100531             1                   NaN   enjoy_the_moment  \n",
       "100532             1             affection          affection  \n",
       "100533             1                   NaN            bonding  \n",
       "100534             1                   NaN           exercise  \n",
       "\n",
       "[100535 rows x 9 columns]"
      ]
     },
     "execution_count": 2,
     "metadata": {},
     "output_type": "execute_result"
    }
   ],
   "source": [
    "sreca = pd.read_csv('cleaned_hm.csv', encoding='utf-8')\n",
    "sreca"
   ]
  },
  {
   "cell_type": "markdown",
   "id": "e6036b7a",
   "metadata": {},
   "source": [
    "Druga tablica sadrži demografske podatke o ispitanicima:"
   ]
  },
  {
   "cell_type": "code",
   "execution_count": 3,
   "id": "e56c344c",
   "metadata": {},
   "outputs": [
    {
     "data": {
      "text/html": [
       "<div>\n",
       "<style scoped>\n",
       "    .dataframe tbody tr th:only-of-type {\n",
       "        vertical-align: middle;\n",
       "    }\n",
       "\n",
       "    .dataframe tbody tr th {\n",
       "        vertical-align: top;\n",
       "    }\n",
       "\n",
       "    .dataframe thead th {\n",
       "        text-align: right;\n",
       "    }\n",
       "</style>\n",
       "<table border=\"1\" class=\"dataframe\">\n",
       "  <thead>\n",
       "    <tr style=\"text-align: right;\">\n",
       "      <th></th>\n",
       "      <th>wid</th>\n",
       "      <th>age</th>\n",
       "      <th>country</th>\n",
       "      <th>gender</th>\n",
       "      <th>marital</th>\n",
       "      <th>parenthood</th>\n",
       "    </tr>\n",
       "  </thead>\n",
       "  <tbody>\n",
       "    <tr>\n",
       "      <th>0</th>\n",
       "      <td>1</td>\n",
       "      <td>37.0</td>\n",
       "      <td>USA</td>\n",
       "      <td>m</td>\n",
       "      <td>married</td>\n",
       "      <td>y</td>\n",
       "    </tr>\n",
       "    <tr>\n",
       "      <th>1</th>\n",
       "      <td>2</td>\n",
       "      <td>29.0</td>\n",
       "      <td>IND</td>\n",
       "      <td>m</td>\n",
       "      <td>married</td>\n",
       "      <td>y</td>\n",
       "    </tr>\n",
       "    <tr>\n",
       "      <th>2</th>\n",
       "      <td>3</td>\n",
       "      <td>25</td>\n",
       "      <td>IND</td>\n",
       "      <td>m</td>\n",
       "      <td>single</td>\n",
       "      <td>n</td>\n",
       "    </tr>\n",
       "    <tr>\n",
       "      <th>3</th>\n",
       "      <td>4</td>\n",
       "      <td>32</td>\n",
       "      <td>USA</td>\n",
       "      <td>m</td>\n",
       "      <td>married</td>\n",
       "      <td>y</td>\n",
       "    </tr>\n",
       "    <tr>\n",
       "      <th>4</th>\n",
       "      <td>5</td>\n",
       "      <td>29</td>\n",
       "      <td>USA</td>\n",
       "      <td>m</td>\n",
       "      <td>married</td>\n",
       "      <td>y</td>\n",
       "    </tr>\n",
       "    <tr>\n",
       "      <th>...</th>\n",
       "      <td>...</td>\n",
       "      <td>...</td>\n",
       "      <td>...</td>\n",
       "      <td>...</td>\n",
       "      <td>...</td>\n",
       "      <td>...</td>\n",
       "    </tr>\n",
       "    <tr>\n",
       "      <th>10839</th>\n",
       "      <td>13835</td>\n",
       "      <td>25.0</td>\n",
       "      <td>USA</td>\n",
       "      <td>m</td>\n",
       "      <td>single</td>\n",
       "      <td>n</td>\n",
       "    </tr>\n",
       "    <tr>\n",
       "      <th>10840</th>\n",
       "      <td>13836</td>\n",
       "      <td>31</td>\n",
       "      <td>USA</td>\n",
       "      <td>m</td>\n",
       "      <td>single</td>\n",
       "      <td>y</td>\n",
       "    </tr>\n",
       "    <tr>\n",
       "      <th>10841</th>\n",
       "      <td>13837</td>\n",
       "      <td>22.0</td>\n",
       "      <td>USA</td>\n",
       "      <td>f</td>\n",
       "      <td>single</td>\n",
       "      <td>n</td>\n",
       "    </tr>\n",
       "    <tr>\n",
       "      <th>10842</th>\n",
       "      <td>13838</td>\n",
       "      <td>38</td>\n",
       "      <td>USA</td>\n",
       "      <td>f</td>\n",
       "      <td>married</td>\n",
       "      <td>y</td>\n",
       "    </tr>\n",
       "    <tr>\n",
       "      <th>10843</th>\n",
       "      <td>13839</td>\n",
       "      <td>24</td>\n",
       "      <td>USA</td>\n",
       "      <td>f</td>\n",
       "      <td>single</td>\n",
       "      <td>y</td>\n",
       "    </tr>\n",
       "  </tbody>\n",
       "</table>\n",
       "<p>10844 rows × 6 columns</p>\n",
       "</div>"
      ],
      "text/plain": [
       "         wid   age country gender  marital parenthood\n",
       "0          1  37.0     USA      m  married          y\n",
       "1          2  29.0     IND      m  married          y\n",
       "2          3    25     IND      m   single          n\n",
       "3          4    32     USA      m  married          y\n",
       "4          5    29     USA      m  married          y\n",
       "...      ...   ...     ...    ...      ...        ...\n",
       "10839  13835  25.0     USA      m   single          n\n",
       "10840  13836    31     USA      m   single          y\n",
       "10841  13837  22.0     USA      f   single          n\n",
       "10842  13838    38     USA      f  married          y\n",
       "10843  13839    24     USA      f   single          y\n",
       "\n",
       "[10844 rows x 6 columns]"
      ]
     },
     "execution_count": 3,
     "metadata": {},
     "output_type": "execute_result"
    }
   ],
   "source": [
    "osobe = pd.read_csv('demographic.csv', encoding='utf-8')\n",
    "osobe"
   ]
  },
  {
   "cell_type": "markdown",
   "id": "594f2343",
   "metadata": {},
   "source": [
    "U tablici `sreca` imamo nekoliko stupaca s podacima koji nam neće biti potrebni za analizu podataka. Stoga ih možemo jednostavno obrisati:"
   ]
  },
  {
   "cell_type": "code",
   "execution_count": 4,
   "id": "c439d021",
   "metadata": {},
   "outputs": [],
   "source": [
    "del sreca['original_hm'], sreca['modified'], sreca['num_sentence'], sreca['ground_truth_category']"
   ]
  },
  {
   "cell_type": "markdown",
   "id": "648c6cab",
   "metadata": {},
   "source": [
    "## Analiza podataka\n",
    "\n",
    "Pokušajmo sada iz ovih podataka donijeti neke zaključke. Kako bismo znali točno s kojim kategorijama uzroka sreće raspolažemo, ispišimo ih:"
   ]
  },
  {
   "cell_type": "code",
   "execution_count": 5,
   "id": "e49d4891",
   "metadata": {},
   "outputs": [
    {
     "data": {
      "text/plain": [
       "{'achievement',\n",
       " 'affection',\n",
       " 'bonding',\n",
       " 'enjoy_the_moment',\n",
       " 'exercise',\n",
       " 'leisure',\n",
       " 'nature'}"
      ]
     },
     "execution_count": 5,
     "metadata": {},
     "output_type": "execute_result"
    }
   ],
   "source": [
    "kategorije = set(sreca['predicted_category'])\n",
    "kategorije"
   ]
  },
  {
   "cell_type": "markdown",
   "id": "5374e085",
   "metadata": {},
   "source": [
    "#### Kružni dijagrami\n",
    "\n",
    "Za početak, bilo bi zanimljivo vidjeti kako su raspoređene kategorije uzroka sreće kad se radi o \"kratkoročnoj\" sreći, u odnosu na kategorije kad se radi o \"dugoročnoj\" sreći. Pogledajmo kružne dijagrame koji će nam pomoći pritom."
   ]
  },
  {
   "cell_type": "markdown",
   "id": "39aaebf6",
   "metadata": {},
   "source": [
    "Prvo nam trebaju podokviri koji prikazuju brojeve ispitanika prema kategoriji uzroka sreće."
   ]
  },
  {
   "cell_type": "code",
   "execution_count": 21,
   "id": "91f877a3",
   "metadata": {},
   "outputs": [],
   "source": [
    "kratkorocni_razlozi = pd.DataFrame((sreca[sreca['reflection_period'] == '24h'])\n",
    "                                    ['predicted_category'].value_counts())\n",
    "\n",
    "dugorocni_razlozi = pd.DataFrame((sreca[sreca['reflection_period'] == '3m'])\n",
    "                                 ['predicted_category'].value_counts())"
   ]
  },
  {
   "cell_type": "markdown",
   "id": "b5cbf31f",
   "metadata": {},
   "source": [
    "Nacrtajmo *pie chart*-ove."
   ]
  },
  {
   "cell_type": "code",
   "execution_count": 18,
   "id": "34004d3f",
   "metadata": {},
   "outputs": [
    {
     "data": {
      "image/png": "[encoded data removed]",
      "text/plain": [
       "<Figure size 432x288 with 2 Axes>"
      ]
     },
     "metadata": {},
     "output_type": "display_data"
    }
   ],
   "source": [
    "from matplotlib import pyplot as plt\n",
    "\n",
    "fig = plt.figure()\n",
    "\n",
    "ax1 = fig.add_axes([0, 0, .5, .5])\n",
    "ax1.pie(x = kratkorocni_razlozi['predicted_category'],\n",
    "       labels = kratkorocni_razlozi.index)\n",
    "ax1.set_title(\"Kratkoročni razlozi:\")\n",
    "\n",
    "ax2 = fig.add_axes([.5, 0, .5, .5])\n",
    "ax2.pie(x = dugorocni_razlozi['predicted_category'],\n",
    "       labels = dugorocni_razlozi.index)\n",
    "ax2.set_title(\"Dugoročni razlozi:\")\n",
    "\n",
    "plt.show()"
   ]
  },
  {
   "cell_type": "markdown",
   "id": "6d2a76a6",
   "metadata": {},
   "source": [
    "#### Kutijasti dijagrami\n",
    "\n",
    "Pokušajmo usporediti demografske podatke ispitanika koji su izrazili pojedine kategorije uzroka sreće. Primjerice, možemo izraditi *boxplot* dijagrame za razdiobu dobi ispitanika koji su u posljednja 24 sata osjetili sreću u kategorijama *affection* i *achievement*, kao i iste takve dijagrame kad se radi o sreći u posljednja 3 mjeseca."
   ]
  },
  {
   "cell_type": "markdown",
   "id": "0b46d597",
   "metadata": {},
   "source": [
    "Kako bismo lakše načinili `DataFrame` koji ćemo prikazati *boxplot*-om, a koji treba sadržavati podatke iz tablica `sreca` i `osobe`, možemo prvo spojiti te tablice. Spajamo ih po identifikatoru ispitanika `wid`."
   ]
  },
  {
   "cell_type": "code",
   "execution_count": 22,
   "id": "0bd15ab4",
   "metadata": {},
   "outputs": [
    {
     "data": {
      "text/html": [
       "<div>\n",
       "<style scoped>\n",
       "    .dataframe tbody tr th:only-of-type {\n",
       "        vertical-align: middle;\n",
       "    }\n",
       "\n",
       "    .dataframe tbody tr th {\n",
       "        vertical-align: top;\n",
       "    }\n",
       "\n",
       "    .dataframe thead th {\n",
       "        text-align: right;\n",
       "    }\n",
       "</style>\n",
       "<table border=\"1\" class=\"dataframe\">\n",
       "  <thead>\n",
       "    <tr style=\"text-align: right;\">\n",
       "      <th></th>\n",
       "      <th>hmid</th>\n",
       "      <th>wid</th>\n",
       "      <th>reflection_period</th>\n",
       "      <th>cleaned_hm</th>\n",
       "      <th>predicted_category</th>\n",
       "      <th>age</th>\n",
       "      <th>country</th>\n",
       "      <th>gender</th>\n",
       "      <th>marital</th>\n",
       "      <th>parenthood</th>\n",
       "    </tr>\n",
       "  </thead>\n",
       "  <tbody>\n",
       "    <tr>\n",
       "      <th>0</th>\n",
       "      <td>27673</td>\n",
       "      <td>2053</td>\n",
       "      <td>24h</td>\n",
       "      <td>I went on a successful date with someone I fel...</td>\n",
       "      <td>affection</td>\n",
       "      <td>35</td>\n",
       "      <td>USA</td>\n",
       "      <td>m</td>\n",
       "      <td>single</td>\n",
       "      <td>n</td>\n",
       "    </tr>\n",
       "    <tr>\n",
       "      <th>1</th>\n",
       "      <td>27873</td>\n",
       "      <td>2053</td>\n",
       "      <td>24h</td>\n",
       "      <td>I played a new game that was fun and got to en...</td>\n",
       "      <td>leisure</td>\n",
       "      <td>35</td>\n",
       "      <td>USA</td>\n",
       "      <td>m</td>\n",
       "      <td>single</td>\n",
       "      <td>n</td>\n",
       "    </tr>\n",
       "    <tr>\n",
       "      <th>2</th>\n",
       "      <td>28073</td>\n",
       "      <td>2053</td>\n",
       "      <td>24h</td>\n",
       "      <td>I listened to some music and heard an entire a...</td>\n",
       "      <td>leisure</td>\n",
       "      <td>35</td>\n",
       "      <td>USA</td>\n",
       "      <td>m</td>\n",
       "      <td>single</td>\n",
       "      <td>n</td>\n",
       "    </tr>\n",
       "    <tr>\n",
       "      <th>3</th>\n",
       "      <td>33522</td>\n",
       "      <td>2053</td>\n",
       "      <td>24h</td>\n",
       "      <td>Went to see a movie with my friend</td>\n",
       "      <td>bonding</td>\n",
       "      <td>35</td>\n",
       "      <td>USA</td>\n",
       "      <td>m</td>\n",
       "      <td>single</td>\n",
       "      <td>n</td>\n",
       "    </tr>\n",
       "    <tr>\n",
       "      <th>4</th>\n",
       "      <td>34522</td>\n",
       "      <td>2053</td>\n",
       "      <td>24h</td>\n",
       "      <td>Played guitar, learning a song on it</td>\n",
       "      <td>leisure</td>\n",
       "      <td>35</td>\n",
       "      <td>USA</td>\n",
       "      <td>m</td>\n",
       "      <td>single</td>\n",
       "      <td>n</td>\n",
       "    </tr>\n",
       "    <tr>\n",
       "      <th>...</th>\n",
       "      <td>...</td>\n",
       "      <td>...</td>\n",
       "      <td>...</td>\n",
       "      <td>...</td>\n",
       "      <td>...</td>\n",
       "      <td>...</td>\n",
       "      <td>...</td>\n",
       "      <td>...</td>\n",
       "      <td>...</td>\n",
       "      <td>...</td>\n",
       "    </tr>\n",
       "    <tr>\n",
       "      <th>100530</th>\n",
       "      <td>128251</td>\n",
       "      <td>11402</td>\n",
       "      <td>24h</td>\n",
       "      <td>Was told I was a great employee by my boss.</td>\n",
       "      <td>achievement</td>\n",
       "      <td>32</td>\n",
       "      <td>USA</td>\n",
       "      <td>m</td>\n",
       "      <td>married</td>\n",
       "      <td>n</td>\n",
       "    </tr>\n",
       "    <tr>\n",
       "      <th>100531</th>\n",
       "      <td>128751</td>\n",
       "      <td>11402</td>\n",
       "      <td>24h</td>\n",
       "      <td>Fixed my car.</td>\n",
       "      <td>achievement</td>\n",
       "      <td>32</td>\n",
       "      <td>USA</td>\n",
       "      <td>m</td>\n",
       "      <td>married</td>\n",
       "      <td>n</td>\n",
       "    </tr>\n",
       "    <tr>\n",
       "      <th>100532</th>\n",
       "      <td>127759</td>\n",
       "      <td>11050</td>\n",
       "      <td>24h</td>\n",
       "      <td>Four year back I lost my job. Now I am living ...</td>\n",
       "      <td>achievement</td>\n",
       "      <td>65</td>\n",
       "      <td>IND</td>\n",
       "      <td>m</td>\n",
       "      <td>married</td>\n",
       "      <td>y</td>\n",
       "    </tr>\n",
       "    <tr>\n",
       "      <th>100533</th>\n",
       "      <td>128259</td>\n",
       "      <td>11050</td>\n",
       "      <td>24h</td>\n",
       "      <td>Yesterday evening I received a call from unkno...</td>\n",
       "      <td>bonding</td>\n",
       "      <td>65</td>\n",
       "      <td>IND</td>\n",
       "      <td>m</td>\n",
       "      <td>married</td>\n",
       "      <td>y</td>\n",
       "    </tr>\n",
       "    <tr>\n",
       "      <th>100534</th>\n",
       "      <td>128759</td>\n",
       "      <td>11050</td>\n",
       "      <td>24h</td>\n",
       "      <td>I am fond of seeing cricket match. Yesterday t...</td>\n",
       "      <td>enjoy_the_moment</td>\n",
       "      <td>65</td>\n",
       "      <td>IND</td>\n",
       "      <td>m</td>\n",
       "      <td>married</td>\n",
       "      <td>y</td>\n",
       "    </tr>\n",
       "  </tbody>\n",
       "</table>\n",
       "<p>100535 rows × 10 columns</p>\n",
       "</div>"
      ],
      "text/plain": [
       "          hmid    wid reflection_period  \\\n",
       "0        27673   2053               24h   \n",
       "1        27873   2053               24h   \n",
       "2        28073   2053               24h   \n",
       "3        33522   2053               24h   \n",
       "4        34522   2053               24h   \n",
       "...        ...    ...               ...   \n",
       "100530  128251  11402               24h   \n",
       "100531  128751  11402               24h   \n",
       "100532  127759  11050               24h   \n",
       "100533  128259  11050               24h   \n",
       "100534  128759  11050               24h   \n",
       "\n",
       "                                               cleaned_hm predicted_category  \\\n",
       "0       I went on a successful date with someone I fel...          affection   \n",
       "1       I played a new game that was fun and got to en...            leisure   \n",
       "2       I listened to some music and heard an entire a...            leisure   \n",
       "3                      Went to see a movie with my friend            bonding   \n",
       "4                    Played guitar, learning a song on it            leisure   \n",
       "...                                                   ...                ...   \n",
       "100530       Was told I was a great employee by my boss.         achievement   \n",
       "100531                                     Fixed my car.         achievement   \n",
       "100532  Four year back I lost my job. Now I am living ...        achievement   \n",
       "100533  Yesterday evening I received a call from unkno...            bonding   \n",
       "100534  I am fond of seeing cricket match. Yesterday t...   enjoy_the_moment   \n",
       "\n",
       "       age country gender  marital parenthood  \n",
       "0       35     USA      m   single          n  \n",
       "1       35     USA      m   single          n  \n",
       "2       35     USA      m   single          n  \n",
       "3       35     USA      m   single          n  \n",
       "4       35     USA      m   single          n  \n",
       "...     ..     ...    ...      ...        ...  \n",
       "100530  32     USA      m  married          n  \n",
       "100531  32     USA      m  married          n  \n",
       "100532  65     IND      m  married          y  \n",
       "100533  65     IND      m  married          y  \n",
       "100534  65     IND      m  married          y  \n",
       "\n",
       "[100535 rows x 10 columns]"
      ]
     },
     "execution_count": 22,
     "metadata": {},
     "output_type": "execute_result"
    }
   ],
   "source": [
    "svi_podaci = pd.merge(sreca, osobe, on = 'wid')\n",
    "svi_podaci"
   ]
  },
  {
   "cell_type": "code",
   "execution_count": 52,
   "id": "f00086e2",
   "metadata": {},
   "outputs": [
    {
     "data": {
      "text/plain": [
       "Series([], Name: age, dtype: object)"
      ]
     },
     "execution_count": 52,
     "metadata": {},
     "output_type": "execute_result"
    }
   ],
   "source": [
    "kratko_affection = pd.DataFrame(svi_podaci[\n",
    "    (svi_podaci['predicted_category'] == 'affection') \n",
    "    & \n",
    "    (svi_podaci['reflection_period'] == '24h')\n",
    "    &\n",
    "    ((type(svi_podaci['age']) == 'float') | (type(svi_podaci['age']) == 'integer'))]);\n",
    "#plt.boxplot(list(kratko_affection['age']));\n",
    "kratko_affection['age']"
   ]
  },
  {
   "cell_type": "markdown",
   "id": "7f7cbf17",
   "metadata": {},
   "source": [
    "could not convert string to float: 'prefer not to say'\n",
    "\n",
    "\n",
    "treba filtrirati podatke da se izbaci bilo šta što nije broj!!!"
   ]
  },
  {
   "cell_type": "code",
   "execution_count": 53,
   "id": "70aa11d3",
   "metadata": {},
   "outputs": [
    {
     "ename": "KeyError",
     "evalue": "\"None of [Index(['age'], dtype='object')] are in the [columns]\"",
     "output_type": "error",
     "traceback": [
      "\u001b[0;31m---------------------------------------------------------------------------\u001b[0m",
      "\u001b[0;31mKeyError\u001b[0m                                  Traceback (most recent call last)",
      "\u001b[0;32m/tmp/ipykernel_3823/4234359441.py\u001b[0m in \u001b[0;36m<module>\u001b[0;34m\u001b[0m\n\u001b[0;32m----> 1\u001b[0;31m \u001b[0mkutija1\u001b[0m \u001b[0;34m=\u001b[0m \u001b[0mkratko_affection\u001b[0m\u001b[0;34m.\u001b[0m\u001b[0mboxplot\u001b[0m\u001b[0;34m(\u001b[0m\u001b[0mcolumn\u001b[0m \u001b[0;34m=\u001b[0m \u001b[0;34m'age'\u001b[0m\u001b[0;34m)\u001b[0m\u001b[0;34m\u001b[0m\u001b[0;34m\u001b[0m\u001b[0m\n\u001b[0m",
      "\u001b[0;32m/opt/anaconda3-2021.11/lib/python3.9/site-packages/pandas/plotting/_core.py\u001b[0m in \u001b[0;36mboxplot_frame\u001b[0;34m(self, column, by, ax, fontsize, rot, grid, figsize, layout, return_type, backend, **kwargs)\u001b[0m\n\u001b[1;32m    509\u001b[0m ):\n\u001b[1;32m    510\u001b[0m     \u001b[0mplot_backend\u001b[0m \u001b[0;34m=\u001b[0m \u001b[0m_get_plot_backend\u001b[0m\u001b[0;34m(\u001b[0m\u001b[0mbackend\u001b[0m\u001b[0;34m)\u001b[0m\u001b[0;34m\u001b[0m\u001b[0;34m\u001b[0m\u001b[0m\n\u001b[0;32m--> 511\u001b[0;31m     return plot_backend.boxplot_frame(\n\u001b[0m\u001b[1;32m    512\u001b[0m         \u001b[0mself\u001b[0m\u001b[0;34m,\u001b[0m\u001b[0;34m\u001b[0m\u001b[0;34m\u001b[0m\u001b[0m\n\u001b[1;32m    513\u001b[0m         \u001b[0mcolumn\u001b[0m\u001b[0;34m=\u001b[0m\u001b[0mcolumn\u001b[0m\u001b[0;34m,\u001b[0m\u001b[0;34m\u001b[0m\u001b[0;34m\u001b[0m\u001b[0m\n",
      "\u001b[0;32m/opt/anaconda3-2021.11/lib/python3.9/site-packages/pandas/plotting/_matplotlib/boxplot.py\u001b[0m in \u001b[0;36mboxplot_frame\u001b[0;34m(self, column, by, ax, fontsize, rot, grid, figsize, layout, return_type, **kwds)\u001b[0m\n\u001b[1;32m    392\u001b[0m     \u001b[0;32mimport\u001b[0m \u001b[0mmatplotlib\u001b[0m\u001b[0;34m.\u001b[0m\u001b[0mpyplot\u001b[0m \u001b[0;32mas\u001b[0m \u001b[0mplt\u001b[0m\u001b[0;34m\u001b[0m\u001b[0;34m\u001b[0m\u001b[0m\n\u001b[1;32m    393\u001b[0m \u001b[0;34m\u001b[0m\u001b[0m\n\u001b[0;32m--> 394\u001b[0;31m     ax = boxplot(\n\u001b[0m\u001b[1;32m    395\u001b[0m         \u001b[0mself\u001b[0m\u001b[0;34m,\u001b[0m\u001b[0;34m\u001b[0m\u001b[0;34m\u001b[0m\u001b[0m\n\u001b[1;32m    396\u001b[0m         \u001b[0mcolumn\u001b[0m\u001b[0;34m=\u001b[0m\u001b[0mcolumn\u001b[0m\u001b[0;34m,\u001b[0m\u001b[0;34m\u001b[0m\u001b[0;34m\u001b[0m\u001b[0m\n",
      "\u001b[0;32m/opt/anaconda3-2021.11/lib/python3.9/site-packages/pandas/plotting/_matplotlib/boxplot.py\u001b[0m in \u001b[0;36mboxplot\u001b[0;34m(data, column, by, ax, fontsize, rot, grid, figsize, layout, return_type, **kwds)\u001b[0m\n\u001b[1;32m    369\u001b[0m             \u001b[0mcolumns\u001b[0m \u001b[0;34m=\u001b[0m \u001b[0mdata\u001b[0m\u001b[0;34m.\u001b[0m\u001b[0mcolumns\u001b[0m\u001b[0;34m\u001b[0m\u001b[0;34m\u001b[0m\u001b[0m\n\u001b[1;32m    370\u001b[0m         \u001b[0;32melse\u001b[0m\u001b[0;34m:\u001b[0m\u001b[0;34m\u001b[0m\u001b[0;34m\u001b[0m\u001b[0m\n\u001b[0;32m--> 371\u001b[0;31m             \u001b[0mdata\u001b[0m \u001b[0;34m=\u001b[0m \u001b[0mdata\u001b[0m\u001b[0;34m[\u001b[0m\u001b[0mcolumns\u001b[0m\u001b[0;34m]\u001b[0m\u001b[0;34m\u001b[0m\u001b[0;34m\u001b[0m\u001b[0m\n\u001b[0m\u001b[1;32m    372\u001b[0m \u001b[0;34m\u001b[0m\u001b[0m\n\u001b[1;32m    373\u001b[0m         \u001b[0mresult\u001b[0m \u001b[0;34m=\u001b[0m \u001b[0mplot_group\u001b[0m\u001b[0;34m(\u001b[0m\u001b[0mcolumns\u001b[0m\u001b[0;34m,\u001b[0m \u001b[0mdata\u001b[0m\u001b[0;34m.\u001b[0m\u001b[0mvalues\u001b[0m\u001b[0;34m.\u001b[0m\u001b[0mT\u001b[0m\u001b[0;34m,\u001b[0m \u001b[0max\u001b[0m\u001b[0;34m)\u001b[0m\u001b[0;34m\u001b[0m\u001b[0;34m\u001b[0m\u001b[0m\n",
      "\u001b[0;32m/opt/anaconda3-2021.11/lib/python3.9/site-packages/pandas/core/frame.py\u001b[0m in \u001b[0;36m__getitem__\u001b[0;34m(self, key)\u001b[0m\n\u001b[1;32m   3462\u001b[0m             \u001b[0;32mif\u001b[0m \u001b[0mis_iterator\u001b[0m\u001b[0;34m(\u001b[0m\u001b[0mkey\u001b[0m\u001b[0;34m)\u001b[0m\u001b[0;34m:\u001b[0m\u001b[0;34m\u001b[0m\u001b[0;34m\u001b[0m\u001b[0m\n\u001b[1;32m   3463\u001b[0m                 \u001b[0mkey\u001b[0m \u001b[0;34m=\u001b[0m \u001b[0mlist\u001b[0m\u001b[0;34m(\u001b[0m\u001b[0mkey\u001b[0m\u001b[0;34m)\u001b[0m\u001b[0;34m\u001b[0m\u001b[0;34m\u001b[0m\u001b[0m\n\u001b[0;32m-> 3464\u001b[0;31m             \u001b[0mindexer\u001b[0m \u001b[0;34m=\u001b[0m \u001b[0mself\u001b[0m\u001b[0;34m.\u001b[0m\u001b[0mloc\u001b[0m\u001b[0;34m.\u001b[0m\u001b[0m_get_listlike_indexer\u001b[0m\u001b[0;34m(\u001b[0m\u001b[0mkey\u001b[0m\u001b[0;34m,\u001b[0m \u001b[0maxis\u001b[0m\u001b[0;34m=\u001b[0m\u001b[0;36m1\u001b[0m\u001b[0;34m)\u001b[0m\u001b[0;34m[\u001b[0m\u001b[0;36m1\u001b[0m\u001b[0;34m]\u001b[0m\u001b[0;34m\u001b[0m\u001b[0;34m\u001b[0m\u001b[0m\n\u001b[0m\u001b[1;32m   3465\u001b[0m \u001b[0;34m\u001b[0m\u001b[0m\n\u001b[1;32m   3466\u001b[0m         \u001b[0;31m# take() does not accept boolean indexers\u001b[0m\u001b[0;34m\u001b[0m\u001b[0;34m\u001b[0m\u001b[0m\n",
      "\u001b[0;32m/opt/anaconda3-2021.11/lib/python3.9/site-packages/pandas/core/indexing.py\u001b[0m in \u001b[0;36m_get_listlike_indexer\u001b[0;34m(self, key, axis)\u001b[0m\n\u001b[1;32m   1312\u001b[0m             \u001b[0mkeyarr\u001b[0m\u001b[0;34m,\u001b[0m \u001b[0mindexer\u001b[0m\u001b[0;34m,\u001b[0m \u001b[0mnew_indexer\u001b[0m \u001b[0;34m=\u001b[0m \u001b[0max\u001b[0m\u001b[0;34m.\u001b[0m\u001b[0m_reindex_non_unique\u001b[0m\u001b[0;34m(\u001b[0m\u001b[0mkeyarr\u001b[0m\u001b[0;34m)\u001b[0m\u001b[0;34m\u001b[0m\u001b[0;34m\u001b[0m\u001b[0m\n\u001b[1;32m   1313\u001b[0m \u001b[0;34m\u001b[0m\u001b[0m\n\u001b[0;32m-> 1314\u001b[0;31m         \u001b[0mself\u001b[0m\u001b[0;34m.\u001b[0m\u001b[0m_validate_read_indexer\u001b[0m\u001b[0;34m(\u001b[0m\u001b[0mkeyarr\u001b[0m\u001b[0;34m,\u001b[0m \u001b[0mindexer\u001b[0m\u001b[0;34m,\u001b[0m \u001b[0maxis\u001b[0m\u001b[0;34m)\u001b[0m\u001b[0;34m\u001b[0m\u001b[0;34m\u001b[0m\u001b[0m\n\u001b[0m\u001b[1;32m   1315\u001b[0m \u001b[0;34m\u001b[0m\u001b[0m\n\u001b[1;32m   1316\u001b[0m         if needs_i8_conversion(ax.dtype) or isinstance(\n",
      "\u001b[0;32m/opt/anaconda3-2021.11/lib/python3.9/site-packages/pandas/core/indexing.py\u001b[0m in \u001b[0;36m_validate_read_indexer\u001b[0;34m(self, key, indexer, axis)\u001b[0m\n\u001b[1;32m   1372\u001b[0m                 \u001b[0;32mif\u001b[0m \u001b[0muse_interval_msg\u001b[0m\u001b[0;34m:\u001b[0m\u001b[0;34m\u001b[0m\u001b[0;34m\u001b[0m\u001b[0m\n\u001b[1;32m   1373\u001b[0m                     \u001b[0mkey\u001b[0m \u001b[0;34m=\u001b[0m \u001b[0mlist\u001b[0m\u001b[0;34m(\u001b[0m\u001b[0mkey\u001b[0m\u001b[0;34m)\u001b[0m\u001b[0;34m\u001b[0m\u001b[0;34m\u001b[0m\u001b[0m\n\u001b[0;32m-> 1374\u001b[0;31m                 \u001b[0;32mraise\u001b[0m \u001b[0mKeyError\u001b[0m\u001b[0;34m(\u001b[0m\u001b[0;34mf\"None of [{key}] are in the [{axis_name}]\"\u001b[0m\u001b[0;34m)\u001b[0m\u001b[0;34m\u001b[0m\u001b[0;34m\u001b[0m\u001b[0m\n\u001b[0m\u001b[1;32m   1375\u001b[0m \u001b[0;34m\u001b[0m\u001b[0m\n\u001b[1;32m   1376\u001b[0m             \u001b[0mnot_found\u001b[0m \u001b[0;34m=\u001b[0m \u001b[0mlist\u001b[0m\u001b[0;34m(\u001b[0m\u001b[0mensure_index\u001b[0m\u001b[0;34m(\u001b[0m\u001b[0mkey\u001b[0m\u001b[0;34m)\u001b[0m\u001b[0;34m[\u001b[0m\u001b[0mmissing_mask\u001b[0m\u001b[0;34m.\u001b[0m\u001b[0mnonzero\u001b[0m\u001b[0;34m(\u001b[0m\u001b[0;34m)\u001b[0m\u001b[0;34m[\u001b[0m\u001b[0;36m0\u001b[0m\u001b[0;34m]\u001b[0m\u001b[0;34m]\u001b[0m\u001b[0;34m.\u001b[0m\u001b[0munique\u001b[0m\u001b[0;34m(\u001b[0m\u001b[0;34m)\u001b[0m\u001b[0;34m)\u001b[0m\u001b[0;34m\u001b[0m\u001b[0;34m\u001b[0m\u001b[0m\n",
      "\u001b[0;31mKeyError\u001b[0m: \"None of [Index(['age'], dtype='object')] are in the [columns]\""
     ]
    },
    {
     "data": {
      "image/png": "[encoded data removed]",
      "text/plain": [
       "<Figure size 432x288 with 1 Axes>"
      ]
     },
     "metadata": {
      "needs_background": "light"
     },
     "output_type": "display_data"
    }
   ],
   "source": [
    "kutija1 = kratko_affection.boxplot(column = 'age')"
   ]
  },
  {
   "cell_type": "code",
   "execution_count": 38,
   "id": "156440b6",
   "metadata": {},
   "outputs": [
    {
     "data": {
      "text/plain": [
       "Index(['hmid', 'wid', 'reflection_period', 'cleaned_hm', 'predicted_category',\n",
       "       'age', 'country', 'gender', 'marital', 'parenthood'],\n",
       "      dtype='object')"
      ]
     },
     "execution_count": 38,
     "metadata": {},
     "output_type": "execute_result"
    }
   ],
   "source": [
    "kratko_affection.columns"
   ]
  },
  {
   "cell_type": "code",
   "execution_count": 46,
   "id": "84d09cb6",
   "metadata": {},
   "outputs": [
    {
     "data": {
      "text/plain": [
       "False"
      ]
     },
     "execution_count": 46,
     "metadata": {},
     "output_type": "execute_result"
    }
   ],
   "source": [
    "type(5) == 'float'"
   ]
  },
  {
   "cell_type": "code",
   "execution_count": 47,
   "id": "8e3b9653",
   "metadata": {},
   "outputs": [
    {
     "ename": "ValueError",
     "evalue": "could not convert string to float: 'a'",
     "output_type": "error",
     "traceback": [
      "\u001b[0;31m---------------------------------------------------------------------------\u001b[0m",
      "\u001b[0;31mValueError\u001b[0m                                Traceback (most recent call last)",
      "\u001b[0;32m/tmp/ipykernel_3823/1629398556.py\u001b[0m in \u001b[0;36m<module>\u001b[0;34m\u001b[0m\n\u001b[0;32m----> 1\u001b[0;31m \u001b[0mfloat\u001b[0m\u001b[0;34m(\u001b[0m\u001b[0;34m'a'\u001b[0m\u001b[0;34m)\u001b[0m\u001b[0;34m\u001b[0m\u001b[0;34m\u001b[0m\u001b[0m\n\u001b[0m",
      "\u001b[0;31mValueError\u001b[0m: could not convert string to float: 'a'"
     ]
    }
   ],
   "source": [
    "float('a')"
   ]
  },
  {
   "cell_type": "code",
   "execution_count": null,
   "id": "9c5bdc62",
   "metadata": {},
   "outputs": [],
   "source": []
  }
 ],
 "metadata": {
  "kernelspec": {
   "display_name": "Python 3 (ipykernel)",
   "language": "python",
   "name": "python3"
  },
  "language_info": {
   "codemirror_mode": {
    "name": "ipython",
    "version": 3
   },
   "file_extension": ".py",
   "mimetype": "text/x-python",
   "name": "python",
   "nbconvert_exporter": "python",
   "pygments_lexer": "ipython3",
   "version": "3.9.7"
  }
 },
 "nbformat": 4,
 "nbformat_minor": 5
}
